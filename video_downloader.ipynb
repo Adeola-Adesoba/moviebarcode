{
 "cells": [
  {
   "cell_type": "code",
   "execution_count": 2,
   "metadata": {},
   "outputs": [],
   "source": [
    "%config Completer.use_jedi=False"
   ]
  },
  {
   "cell_type": "code",
   "execution_count": 3,
   "metadata": {},
   "outputs": [],
   "source": [
    "import subprocess\n",
    "import glob"
   ]
  },
  {
   "cell_type": "code",
   "execution_count": null,
   "metadata": {},
   "outputs": [],
   "source": []
  },
  {
   "cell_type": "code",
   "execution_count": null,
   "metadata": {},
   "outputs": [],
   "source": []
  },
  {
   "cell_type": "code",
   "execution_count": null,
   "metadata": {},
   "outputs": [],
   "source": []
  },
  {
   "cell_type": "code",
   "execution_count": null,
   "metadata": {},
   "outputs": [],
   "source": []
  },
  {
   "cell_type": "code",
   "execution_count": null,
   "metadata": {},
   "outputs": [],
   "source": []
  },
  {
   "cell_type": "code",
   "execution_count": null,
   "metadata": {},
   "outputs": [],
   "source": []
  },
  {
   "cell_type": "code",
   "execution_count": null,
   "metadata": {},
   "outputs": [],
   "source": []
  },
  {
   "cell_type": "code",
   "execution_count": null,
   "metadata": {},
   "outputs": [],
   "source": []
  },
  {
   "cell_type": "code",
   "execution_count": null,
   "metadata": {},
   "outputs": [],
   "source": []
  },
  {
   "cell_type": "code",
   "execution_count": null,
   "metadata": {},
   "outputs": [],
   "source": []
  },
  {
   "cell_type": "code",
   "execution_count": null,
   "metadata": {},
   "outputs": [],
   "source": []
  },
  {
   "cell_type": "code",
   "execution_count": null,
   "metadata": {},
   "outputs": [],
   "source": []
  },
  {
   "cell_type": "code",
   "execution_count": null,
   "metadata": {},
   "outputs": [],
   "source": []
  },
  {
   "cell_type": "code",
   "execution_count": null,
   "metadata": {},
   "outputs": [],
   "source": []
  },
  {
   "cell_type": "code",
   "execution_count": 11,
   "metadata": {},
   "outputs": [],
   "source": [
    "import subprocess\n",
    "test = subprocess.Popen([\"ls\", \"-al\"], stdout=subprocess.PIPE)\n",
    "output = test.communicate()[0]"
   ]
  },
  {
   "cell_type": "code",
   "execution_count": 12,
   "metadata": {},
   "outputs": [
    {
     "data": {
      "text/plain": [
       "['total 1096',\n",
       " 'drwxr-xr-x   22 erolrecep  staff     704 Oct  1 22:59 .',\n",
       " 'drwxr-xr-x   16 erolrecep  staff     512 Oct  1 20:01 ..',\n",
       " '-rw-r--r--@   1 erolrecep  staff    8196 Sep 29 23:52 .DS_Store',\n",
       " 'drwxr-xr-x   15 erolrecep  staff     480 Oct  1 22:56 .git',\n",
       " '-rw-r--r--    1 erolrecep  staff      57 Sep 29 14:08 .gitignore',\n",
       " 'drwxr-xr-x    8 erolrecep  staff     256 Oct  1 22:56 .idea',\n",
       " 'drwxr-xr-x    7 erolrecep  staff     224 Oct  1 22:57 .ipynb_checkpoints',\n",
       " '-rw-r--r--    1 erolrecep  staff    3860 Sep 29 23:51 Movie_Barcode_Presentation.ipynb',\n",
       " '-rw-r--r--    1 erolrecep  staff    2236 Sep 30 00:02 README.md',\n",
       " '-rw-r--r--    1 erolrecep  staff   13715 Oct  1 18:54 app.py',\n",
       " '-rw-r--r--    1 erolrecep  staff  456868 Oct  1 22:55 barcode_clustering.ipynb',\n",
       " '-rw-r--r--    1 erolrecep  staff      46 Sep 29 14:08 config.yaml',\n",
       " '-rw-r--r--    1 erolrecep  staff   31864 Oct  1 22:48 foo.png',\n",
       " '-rw-r--r--    1 erolrecep  staff    3499 Oct  1 19:30 get_videoids_playlist.ipynb',\n",
       " '-rw-r--r--    1 erolrecep  staff       0 Sep 29 14:08 ids.txt',\n",
       " 'drwxr-xr-x    8 erolrecep  staff     256 Sep 30 00:01 images',\n",
       " 'drwxr-xr-x  105 erolrecep  staff    3360 Oct  1 18:55 output',\n",
       " 'drwxr-xr-x  103 erolrecep  staff    3296 Oct  1 22:25 pics',\n",
       " '-rw-r--r--    1 erolrecep  staff    1822 Sep 30 00:03 requirements.txt',\n",
       " '-rw-r--r--    1 erolrecep  staff     291 Sep 13 10:56 urls.txt',\n",
       " '-rw-r--r--    1 erolrecep  staff    3939 Oct  1 22:59 video_downloader.ipynb',\n",
       " '-rw-r--r--    1 erolrecep  staff    6055 Oct  1 19:27 video_ids.json',\n",
       " '']"
      ]
     },
     "execution_count": 12,
     "metadata": {},
     "output_type": "execute_result"
    }
   ],
   "source": [
    "output.decode(\"utf-8\").split(\"\\n\")"
   ]
  },
  {
   "cell_type": "code",
   "execution_count": null,
   "metadata": {},
   "outputs": [],
   "source": []
  }
 ],
 "metadata": {
  "kernelspec": {
   "display_name": "Python 3",
   "language": "python",
   "name": "python3"
  },
  "language_info": {
   "codemirror_mode": {
    "name": "ipython",
    "version": 3
   },
   "file_extension": ".py",
   "mimetype": "text/x-python",
   "name": "python",
   "nbconvert_exporter": "python",
   "pygments_lexer": "ipython3",
   "version": "3.6.5"
  }
 },
 "nbformat": 4,
 "nbformat_minor": 4
}
