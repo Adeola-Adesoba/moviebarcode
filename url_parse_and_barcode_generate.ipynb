{
 "cells": [
  {
   "cell_type": "code",
   "execution_count": 1,
   "metadata": {},
   "outputs": [],
   "source": [
    "%config Completer.use_jedi = False"
   ]
  },
  {
   "cell_type": "code",
   "execution_count": 2,
   "metadata": {},
   "outputs": [],
   "source": [
    "import pafy"
   ]
  },
  {
   "cell_type": "code",
   "execution_count": null,
   "metadata": {},
   "outputs": [],
   "source": []
  },
  {
   "cell_type": "code",
   "execution_count": null,
   "metadata": {},
   "outputs": [],
   "source": []
  },
  {
   "cell_type": "code",
   "execution_count": null,
   "metadata": {},
   "outputs": [],
   "source": []
  },
  {
   "cell_type": "code",
   "execution_count": 4,
   "metadata": {},
   "outputs": [
    {
     "name": "stdout",
     "output_type": "stream",
     "text": [
      "https://www.youtube.com/playlist?list=PLezlzyPqpo-RU-jcLVtWY5vk4XGAMe9gt\n",
      "https://www.youtube.com/playlist?list=PLlVlyGVtvuVk9yrBhEoTvOryLkOoaBeII\n",
      "https://www.youtube.com/playlist?list=PLujxSBD-JXglGL3ERdDOhthD3jTlfudC2\n",
      "https://www.youtube.com/playlist?list=PLhjLO-ekrsRvxL-aGqP82qgAgJlzKPDw7\n",
      "Number of videos in this play list: 17\n",
      "5rME8vgW42o | ANDRIY SHEVCHENKO: #UCL 100 CLUB\n",
      "mI-ot7ifnug | OLIVER KAHN: #UCL 100 CLUB\n",
      "MJvLLN4TXgE | LUÍS FIGO: #UCL 100 CLUB\n",
      "keCEtcHeu-8 | FRANK LAMPARD: #UCL 100 CLUB\n",
      "nQnu1CcdGmg | DAVID BECKHAM: #UCL 100 CLUB\n",
      "44LOY6Z1jGU | ANDREA PIRLO: #UCL 100 CLUB\n",
      "A0wQLkouP-0 | PATRICE EVRA: #UCL 100 CLUB\n",
      "zUHvPgJgop8 | ASHLEY COLE: #UCL 100 CLUB\n",
      "DZUfhlJbLpE | DANI ALVES: #UCL 100 CLUB\n",
      "0_vU_m0GYmE | JOHN TERRY: #UCL 100 CLUB\n",
      "TV3BdT0sngA | GARY NEVILLE: #UCL 100 CLUB\n",
      "SsuUpXfOObM | PAOLO MALDINI: #UCL 100 CLUB\n",
      "ES7HvIysX0g | PETR ČECH: #UCL 100 CLUB\n",
      "M5AFM4B7r_I | THIERRY HENRY: #UCL 100 CLUB\n",
      "q4-hUP7iNjk | PHILIPP LAHM: #UCL 100 CLUB\n",
      "NvPDX9CClOU | CARLES PUYOL: #UCL 100 CLUB\n",
      "oT37S3aLVKQ | XABI ALONSO: #UCL 100 CLUB\n"
     ]
    }
   ],
   "source": [
    "# TODO: add exception handling\n",
    "def read_urls(filename):\n",
    "    with open(filename, \"r\") as f:\n",
    "        urls = f.read().split(\"\\n\")\n",
    "\n",
    "    return urls\n",
    "\n",
    "\n",
    "# TODO: With pafy, get list of video urls of youtube.\n",
    "# TODO: return the list of videos within a playlist\n",
    "def get_urls_from_playlist(playlist):\n",
    "    return pafy.get_playlist(playlist)\n",
    "\n",
    "\n",
    "# TODO: return the generated movie barcode for a video url\n",
    "def get_movie_barcode(url):\n",
    "    return 0\n",
    "\n",
    "\n",
    "all_urls = read_urls(\"urls.txt\")\n",
    "for url in all_urls:\n",
    "    print(url)\n",
    "\n",
    "yt_list = all_urls[-1]\n",
    "\n",
    "playlist = pafy.get_playlist(yt_list)\n",
    "\n",
    "print(\"Number of videos in this play list: {}\".format(len(playlist[\"items\"])))\n",
    "\n",
    "with open(\"ids.txt\", \"w+\") as f:\n",
    "    for video in playlist[\"items\"]:\n",
    "        print(\"{} | {}\".format(video['pafy'].videoid, video['pafy'].title))\n",
    "        f.write(\"{}\\n\".format(video['pafy'].videoid))"
   ]
  },
  {
   "cell_type": "code",
   "execution_count": null,
   "metadata": {},
   "outputs": [],
   "source": []
  }
 ],
 "metadata": {
  "kernelspec": {
   "display_name": "Python 3",
   "language": "python",
   "name": "python3"
  },
  "language_info": {
   "codemirror_mode": {
    "name": "ipython",
    "version": 3
   },
   "file_extension": ".py",
   "mimetype": "text/x-python",
   "name": "python",
   "nbconvert_exporter": "python",
   "pygments_lexer": "ipython3",
   "version": "3.5.2"
  }
 },
 "nbformat": 4,
 "nbformat_minor": 4
}
