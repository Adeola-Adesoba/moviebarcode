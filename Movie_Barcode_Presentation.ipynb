{
 "cells": [
  {
   "cell_type": "markdown",
   "metadata": {},
   "source": [
    "# YouTube Video Barcode Generation"
   ]
  },
  {
   "cell_type": "markdown",
   "metadata": {},
   "source": [
    "![workflow_01](https://raw.githubusercontent.com/erolrecep/movie_barcode/master/images/workflow_01.jpg)"
   ]
  },
  {
   "cell_type": "markdown",
   "metadata": {},
   "source": [
    "![workflow_02](https://raw.githubusercontent.com/erolrecep/movie_barcode/master/images/workflow_02.jpg)"
   ]
  },
  {
   "cell_type": "markdown",
   "metadata": {},
   "source": [
    "### The output of a playlist processing\n",
    "\n",
    "\n",
    "            ├── 0_vU_m0GYmE\n",
    "            │   ├── 0_vU_m0GYmE.json\n",
    "            │   └── 0_vU_m0GYmE.png\n",
    "            ├── 44LOY6Z1jGU\n",
    "            │   ├── 44LOY6Z1jGU.json\n",
    "            │   └── 44LOY6Z1jGU.png\n",
    "            ├── 5rME8vgW42o\n",
    "            │   ├── 5rME8vgW42o.json\n",
    "            │   └── 5rME8vgW42o.png\n",
    "            ├── A0wQLkouP-0\n",
    "            │   ├── A0wQLkouP-0.json\n",
    "            │   └── A0wQLkouP-0.png\n",
    "            ├── DZUfhlJbLpE\n",
    "            │   ├── DZUfhlJbLpE.json\n",
    "            │   └── DZUfhlJbLpE.png\n",
    "            ├── ES7HvIysX0g\n",
    "            │   ├── ES7HvIysX0g.json\n",
    "            │   └── ES7HvIysX0g.png\n",
    "            ├── M5AFM4B7r_I\n",
    "            │   ├── M5AFM4B7r_I.json\n",
    "            │   └── M5AFM4B7r_I.png\n",
    "            ├── MJvLLN4TXgE\n",
    "            │   ├── MJvLLN4TXgE.json\n",
    "            │   └── MJvLLN4TXgE.png\n",
    "            ├── NvPDX9CClOU\n",
    "            │   ├── NvPDX9CClOU.json\n",
    "            │   └── NvPDX9CClOU.png\n",
    "            ├── SsuUpXfOObM\n",
    "            │   ├── SsuUpXfOObM.json\n",
    "            │   └── SsuUpXfOObM.png\n",
    "            ├── TV3BdT0sngA\n",
    "            │   ├── TV3BdT0sngA.json\n",
    "            │   └── TV3BdT0sngA.png\n",
    "            ├── keCEtcHeu-8\n",
    "            │   ├── keCEtcHeu-8.json\n",
    "            │   └── keCEtcHeu-8.png\n",
    "            ├── mI-ot7ifnug\n",
    "            │   ├── mI-ot7ifnug.json\n",
    "            │   └── mI-ot7ifnug.png\n",
    "            ├── nQnu1CcdGmg\n",
    "            │   ├── nQnu1CcdGmg.json\n",
    "            │   └── nQnu1CcdGmg.png\n",
    "            ├── oT37S3aLVKQ\n",
    "            │   ├── oT37S3aLVKQ.json\n",
    "            │   └── oT37S3aLVKQ.png\n",
    "            ├── q4-hUP7iNjk\n",
    "            │   ├── q4-hUP7iNjk.json\n",
    "            │   └── q4-hUP7iNjk.png\n",
    "            └── zUHvPgJgop8\n",
    "                ├── zUHvPgJgop8.json\n",
    "                └── zUHvPgJgop8.png\n",
    "\n",
    "**Metada will be added on the next release**"
   ]
  },
  {
   "cell_type": "code",
   "execution_count": null,
   "metadata": {},
   "outputs": [],
   "source": []
  }
 ],
 "metadata": {
  "kernelspec": {
   "display_name": "Python 3",
   "language": "python",
   "name": "python3"
  },
  "language_info": {
   "codemirror_mode": {
    "name": "ipython",
    "version": 3
   },
   "file_extension": ".py",
   "mimetype": "text/x-python",
   "name": "python",
   "nbconvert_exporter": "python",
   "pygments_lexer": "ipython3",
   "version": "3.6.5"
  }
 },
 "nbformat": 4,
 "nbformat_minor": 4
}
